{
 "cells": [
  {
   "cell_type": "code",
   "execution_count": 24,
   "outputs": [
    {
     "name": "stdout",
     "output_type": "stream",
     "text": [
      "1719\n",
      "torch.Size([149, 1719])\n"
     ]
    }
   ],
   "source": [
    "import pandas as pd\n",
    "import numpy as np\n",
    "from sklearn.model_selection import train_test_split\n",
    "from torch.nn.utils.rnn import pad_sequence\n",
    "import torch\n",
    "\n",
    "dir = 'data/data.csv'\n",
    "df = pd.read_csv(dir)\n",
    "seq = df['Sequence']\n",
    "label = df['Label']\n",
    "print(len(label))\n",
    "input_seq = []\n",
    "for i in seq:\n",
    "\n",
    "    temp = protein_to_int(i)\n",
    "\n",
    "    input_seq.append(torch.tensor(temp))\n",
    "input_seq = pad_sequence(input_seq,padding_value=-1)\n",
    "print(input_seq.shape)\n",
    "\n",
    "input_seq= torch.transpose(input_seq,1,0)\n",
    "input_label = torch.tensor(label)\n",
    "# print(z[1000])\n",
    "# print(input_seq_tensor.shape)\n",
    "# print(input_lable.shape)\n"
   ],
   "metadata": {
    "collapsed": false,
    "pycharm": {
     "name": "#%%\n"
    }
   }
  },
  {
   "cell_type": "code",
   "execution_count": 25,
   "outputs": [],
   "source": [],
   "metadata": {
    "collapsed": false,
    "pycharm": {
     "name": "#%%\n"
    }
   }
  },
  {
   "cell_type": "code",
   "execution_count": 26,
   "outputs": [],
   "source": [
    "from evaluate_metrics import *"
   ],
   "metadata": {
    "collapsed": false,
    "pycharm": {
     "name": "#%%\n"
    }
   }
  },
  {
   "cell_type": "code",
   "execution_count": 27,
   "outputs": [
    {
     "name": "stderr",
     "output_type": "stream",
     "text": [
      "D:\\Anaconda\\envs\\pytorch\\lib\\site-packages\\sklearn\\svm\\_base.py:255: ConvergenceWarning: Solver terminated early (max_iter=200).  Consider pre-processing your data with StandardScaler or MinMaxScaler.\n",
      "  warnings.warn('Solver terminated early (max_iter=%i).'\n"
     ]
    },
    {
     "name": "stdout",
     "output_type": "stream",
     "text": [
      "训练集 0.9505454545454546\n",
      "测试集 0.6715116279069767\n"
     ]
    },
    {
     "name": "stderr",
     "output_type": "stream",
     "text": [
      "D:\\Anaconda\\envs\\pytorch\\lib\\site-packages\\sklearn\\svm\\_base.py:255: ConvergenceWarning: Solver terminated early (max_iter=200).  Consider pre-processing your data with StandardScaler or MinMaxScaler.\n",
      "  warnings.warn('Solver terminated early (max_iter=%i).'\n"
     ]
    },
    {
     "name": "stdout",
     "output_type": "stream",
     "text": [
      "训练集 0.9381818181818182\n",
      "测试集 0.6947674418604651\n"
     ]
    },
    {
     "name": "stderr",
     "output_type": "stream",
     "text": [
      "D:\\Anaconda\\envs\\pytorch\\lib\\site-packages\\sklearn\\svm\\_base.py:255: ConvergenceWarning: Solver terminated early (max_iter=200).  Consider pre-processing your data with StandardScaler or MinMaxScaler.\n",
      "  warnings.warn('Solver terminated early (max_iter=%i).'\n"
     ]
    },
    {
     "name": "stdout",
     "output_type": "stream",
     "text": [
      "训练集 0.9549090909090909\n",
      "测试集 0.7063953488372093\n"
     ]
    },
    {
     "name": "stderr",
     "output_type": "stream",
     "text": [
      "D:\\Anaconda\\envs\\pytorch\\lib\\site-packages\\sklearn\\svm\\_base.py:255: ConvergenceWarning: Solver terminated early (max_iter=200).  Consider pre-processing your data with StandardScaler or MinMaxScaler.\n",
      "  warnings.warn('Solver terminated early (max_iter=%i).'\n"
     ]
    },
    {
     "name": "stdout",
     "output_type": "stream",
     "text": [
      "训练集 0.9629090909090909\n",
      "测试集 0.688953488372093\n"
     ]
    },
    {
     "name": "stderr",
     "output_type": "stream",
     "text": [
      "D:\\Anaconda\\envs\\pytorch\\lib\\site-packages\\sklearn\\svm\\_base.py:255: ConvergenceWarning: Solver terminated early (max_iter=200).  Consider pre-processing your data with StandardScaler or MinMaxScaler.\n",
      "  warnings.warn('Solver terminated early (max_iter=%i).'\n"
     ]
    },
    {
     "name": "stdout",
     "output_type": "stream",
     "text": [
      "训练集 0.9571220930232558\n",
      "测试集 0.7084548104956269\n",
      "0.6940165434944742\n",
      "0.8249884670003385\n",
      "0.5651045759303936\n",
      "0.5620324255224968\n",
      "0.5706801182379262\n",
      "0.842776528531181\n"
     ]
    }
   ],
   "source": [
    "from sklearn import svm\n",
    "from sklearn.model_selection import KFold,StratifiedKFold\n",
    "sfolder = StratifiedKFold(n_splits=5,random_state=2,shuffle=True)\n",
    "result = np.random.randn(6,5)\n",
    "for i,(train_id,test_id) in enumerate(sfolder.split(input_seq,input_label)):\n",
    "\n",
    "    Xtrain,Ytrain = input_seq[train_id],input_label[train_id]\n",
    "    Xtest,Ytest = input_seq[test_id],input_label[test_id]\n",
    "\n",
    "    clf =svm.SVC(gamma=0.05,max_iter=200,decision_function_shape='ovr',probability=True)\n",
    "\n",
    "    clf.fit(Xtrain,Ytrain)\n",
    "    print('训练集',clf.score(Xtrain,Ytrain))\n",
    "    print('测试集',clf.score(Xtest,Ytest))\n",
    "    tra_label = clf.predict(Xtrain)\n",
    "    tes_label = clf.predict(Xtest)\n",
    "    f = clf.predict_proba(Xtest)\n",
    "\n",
    "    val_result = [accuracy_score(Ytest, tes_label),precision_score(Ytest,tes_label),\n",
    "                  recall_score(Ytest, tes_label), f1_score(Ytest, tes_label),\n",
    "              mcc_score(Ytest, tes_label),auc_score(Ytest,f)]\n",
    "    for j in range(6):\n",
    "        result[j][i] = val_result[j]\n",
    "\n",
    "for i in range(6):\n",
    "    print(np.mean(result[i]))"
   ],
   "metadata": {
    "collapsed": false,
    "pycharm": {
     "name": "#%%\n"
    }
   }
  },
  {
   "cell_type": "code",
   "execution_count": 37,
   "outputs": [
    {
     "name": "stdout",
     "output_type": "stream",
     "text": [
      "0.8702844260627838\n",
      "0.8991867441594963\n",
      "0.8110193037296283\n",
      "0.8363411906582299\n",
      "0.8156348394004057\n",
      "0.9647978606970723\n"
     ]
    }
   ],
   "source": [
    "from sklearn.ensemble import RandomForestClassifier\n",
    "sfolder = StratifiedKFold(n_splits=5,random_state=2,shuffle=True)\n",
    "result = np.random.randn(6,5)\n",
    "for i,(train_id,test_id) in enumerate(sfolder.split(input_seq,input_label)):\n",
    "    Xtrain,Ytrain = input_seq[train_id],input_label[train_id]\n",
    "    Xtest,Ytest = input_seq[test_id],input_label[test_id]\n",
    "    glassRFModel = RandomForestClassifier(n_estimators=100,max_depth=None,random_state=2)\n",
    "    glassRFModel.fit(Xtrain,Ytrain)\n",
    "    tes_label = glassRFModel.predict(Xtest)\n",
    "\n",
    "\n",
    "    f = glassRFModel.predict_proba(Xtest)\n",
    "\n",
    "    val_result = [accuracy_score(Ytest, tes_label),precision_score(Ytest,tes_label),\n",
    "                  recall_score(Ytest, tes_label), f1_score(Ytest, tes_label),\n",
    "              mcc_score(Ytest, tes_label),auc_score(Ytest,f)]\n",
    "    for j in range(6):\n",
    "        result[j][i] = val_result[j]\n",
    "\n",
    "for i in range(6):\n",
    "    print(np.mean(result[i]))\n"
   ],
   "metadata": {
    "collapsed": false,
    "pycharm": {
     "name": "#%%\n"
    }
   }
  },
  {
   "cell_type": "code",
   "execution_count": 36,
   "outputs": [
    {
     "name": "stdout",
     "output_type": "stream",
     "text": [
      "tensor([0, 0, 0, 0, 0, 0, 0, 0, 0, 0, 0, 0, 0, 0, 0, 0, 0, 0, 0, 0, 0, 0, 0, 0,\n",
      "        0, 0, 0, 0, 0, 0, 0, 0, 0, 0, 0, 0, 0, 0, 0, 0, 0, 0, 0, 0, 0, 0, 0, 0,\n",
      "        0, 0, 0, 0, 0, 0, 0, 0, 0, 0, 0, 0, 0, 0, 0, 0, 0, 0, 0, 0, 0, 1, 1, 1,\n",
      "        1, 1, 1, 1, 1, 1, 1, 1, 1, 1, 1, 1, 1, 1, 1, 1, 1, 1, 1, 1, 1, 1, 1, 1,\n",
      "        1, 1, 1, 1, 1, 1, 1, 1, 1, 1, 1, 2, 2, 2, 2, 2, 2, 2, 2, 2, 2, 2, 2, 2,\n",
      "        2, 2, 2, 2, 2, 2, 2, 2, 2, 2, 2, 2, 2, 2, 2, 2, 2, 2, 2, 2, 2, 2, 2, 2,\n",
      "        2, 2, 2, 2, 2, 2, 2, 2, 2, 2, 2, 2, 2, 2, 2, 2, 2, 2, 2, 2, 2, 2, 2, 2,\n",
      "        2, 2, 2, 2, 2, 2, 2, 2, 2, 2, 2, 2, 2, 2, 2, 2, 2, 2, 2, 2, 2, 2, 2, 2,\n",
      "        2, 2, 2, 2, 2, 2, 2, 2, 2, 2, 2, 2, 2, 2, 2, 2, 2, 3, 3, 3, 3, 3, 3, 3,\n",
      "        3, 3, 3, 3, 3, 3, 3, 3, 3, 3, 3, 3, 3, 3, 3, 3, 3, 3, 3, 3, 3, 3, 3, 3,\n",
      "        3, 3, 3, 3, 3, 3, 3, 3, 3, 3, 3, 3, 3, 3, 3, 3, 3, 3, 3, 3, 3, 3, 3, 3,\n",
      "        3, 3, 3, 3, 3, 3, 3, 3, 3, 3, 3, 3, 3, 3, 3, 3, 3, 3, 3, 3, 3, 3, 3, 3,\n",
      "        3, 3, 3, 3, 3, 3, 3, 3, 3, 3, 3, 3, 3, 3, 3, 3, 3, 3, 3, 3, 3, 3, 3, 3,\n",
      "        3, 3, 3, 3, 3, 3, 3, 3, 3, 3, 3, 3, 3, 3, 3, 3, 3, 3, 3, 3, 3, 3, 3, 3,\n",
      "        3, 3, 3, 3, 3, 3, 3, 3])\n",
      "tensor([[10,  8, 16,  ..., -1, -1, -1],\n",
      "        [15,  2,  5,  ..., -1, -1, -1],\n",
      "        [ 4,  2,  5,  ..., -1, -1, -1],\n",
      "        ...,\n",
      "        [10,  8,  9,  ..., -1, -1, -1],\n",
      "        [10,  8, 16,  ..., -1, -1, -1],\n",
      "        [10,  8,  9,  ..., -1, -1, -1]])\n",
      "tensor([0, 0, 0, 0, 0, 0, 0, 0, 0, 0, 0, 0, 0, 0, 0, 0, 0, 0, 0, 0, 0, 0, 0, 0,\n",
      "        0, 0, 0, 0, 0, 0, 0, 0, 0, 0, 0, 0, 0, 0, 0, 0, 0, 0, 0, 0, 0, 0, 0, 0,\n",
      "        0, 0, 0, 0, 0, 0, 0, 0, 0, 0, 0, 0, 0, 0, 0, 0, 0, 0, 0, 0, 1, 1, 1, 1,\n",
      "        1, 1, 1, 1, 1, 1, 1, 1, 1, 1, 1, 1, 1, 1, 1, 1, 1, 1, 1, 1, 1, 1, 1, 1,\n",
      "        1, 1, 1, 1, 1, 1, 1, 1, 1, 1, 1, 2, 2, 2, 2, 2, 2, 2, 2, 2, 2, 2, 2, 2,\n",
      "        2, 2, 2, 2, 2, 2, 2, 2, 2, 2, 2, 2, 2, 2, 2, 2, 2, 2, 2, 2, 2, 2, 2, 2,\n",
      "        2, 2, 2, 2, 2, 2, 2, 2, 2, 2, 2, 2, 2, 2, 2, 2, 2, 2, 2, 2, 2, 2, 2, 2,\n",
      "        2, 2, 2, 2, 2, 2, 2, 2, 2, 2, 2, 2, 2, 2, 2, 2, 2, 2, 2, 2, 2, 2, 2, 2,\n",
      "        2, 2, 2, 2, 2, 2, 2, 2, 2, 2, 2, 2, 2, 2, 2, 2, 2, 3, 3, 3, 3, 3, 3, 3,\n",
      "        3, 3, 3, 3, 3, 3, 3, 3, 3, 3, 3, 3, 3, 3, 3, 3, 3, 3, 3, 3, 3, 3, 3, 3,\n",
      "        3, 3, 3, 3, 3, 3, 3, 3, 3, 3, 3, 3, 3, 3, 3, 3, 3, 3, 3, 3, 3, 3, 3, 3,\n",
      "        3, 3, 3, 3, 3, 3, 3, 3, 3, 3, 3, 3, 3, 3, 3, 3, 3, 3, 3, 3, 3, 3, 3, 3,\n",
      "        3, 3, 3, 3, 3, 3, 3, 3, 3, 3, 3, 3, 3, 3, 3, 3, 3, 3, 3, 3, 3, 3, 3, 3,\n",
      "        3, 3, 3, 3, 3, 3, 3, 3, 3, 3, 3, 3, 3, 3, 3, 3, 3, 3, 3, 3, 3, 3, 3, 3,\n",
      "        3, 3, 3, 3, 3, 3, 3, 3])\n",
      "tensor([[10,  8, 16,  ..., -1, -1, -1],\n",
      "        [10,  8, 16,  ..., -1, -1, -1],\n",
      "        [10,  8, 16,  ..., -1, -1, -1],\n",
      "        ...,\n",
      "        [10, 11, 19,  ..., -1, -1, -1],\n",
      "        [10, 11, 19,  ..., -1, -1, -1],\n",
      "        [10,  8,  9,  ..., -1, -1, -1]])\n",
      "tensor([0, 0, 0, 0, 0, 0, 0, 0, 0, 0, 0, 0, 0, 0, 0, 0, 0, 0, 0, 0, 0, 0, 0, 0,\n",
      "        0, 0, 0, 0, 0, 0, 0, 0, 0, 0, 0, 0, 0, 0, 0, 0, 0, 0, 0, 0, 0, 0, 0, 0,\n",
      "        0, 0, 0, 0, 0, 0, 0, 0, 0, 0, 0, 0, 0, 0, 0, 0, 0, 0, 0, 0, 1, 1, 1, 1,\n",
      "        1, 1, 1, 1, 1, 1, 1, 1, 1, 1, 1, 1, 1, 1, 1, 1, 1, 1, 1, 1, 1, 1, 1, 1,\n",
      "        1, 1, 1, 1, 1, 1, 1, 1, 1, 1, 1, 2, 2, 2, 2, 2, 2, 2, 2, 2, 2, 2, 2, 2,\n",
      "        2, 2, 2, 2, 2, 2, 2, 2, 2, 2, 2, 2, 2, 2, 2, 2, 2, 2, 2, 2, 2, 2, 2, 2,\n",
      "        2, 2, 2, 2, 2, 2, 2, 2, 2, 2, 2, 2, 2, 2, 2, 2, 2, 2, 2, 2, 2, 2, 2, 2,\n",
      "        2, 2, 2, 2, 2, 2, 2, 2, 2, 2, 2, 2, 2, 2, 2, 2, 2, 2, 2, 2, 2, 2, 2, 2,\n",
      "        2, 2, 2, 2, 2, 2, 2, 2, 2, 2, 2, 2, 2, 2, 2, 2, 2, 3, 3, 3, 3, 3, 3, 3,\n",
      "        3, 3, 3, 3, 3, 3, 3, 3, 3, 3, 3, 3, 3, 3, 3, 3, 3, 3, 3, 3, 3, 3, 3, 3,\n",
      "        3, 3, 3, 3, 3, 3, 3, 3, 3, 3, 3, 3, 3, 3, 3, 3, 3, 3, 3, 3, 3, 3, 3, 3,\n",
      "        3, 3, 3, 3, 3, 3, 3, 3, 3, 3, 3, 3, 3, 3, 3, 3, 3, 3, 3, 3, 3, 3, 3, 3,\n",
      "        3, 3, 3, 3, 3, 3, 3, 3, 3, 3, 3, 3, 3, 3, 3, 3, 3, 3, 3, 3, 3, 3, 3, 3,\n",
      "        3, 3, 3, 3, 3, 3, 3, 3, 3, 3, 3, 3, 3, 3, 3, 3, 3, 3, 3, 3, 3, 3, 3, 3,\n",
      "        3, 3, 3, 3, 3, 3, 3, 3])\n",
      "tensor([[10,  5, 10,  ..., -1, -1, -1],\n",
      "        [19, 16,  9,  ..., -1, -1, -1],\n",
      "        [19, 16,  9,  ..., -1, -1, -1],\n",
      "        ...,\n",
      "        [10,  8,  0,  ..., -1, -1, -1],\n",
      "        [10, 11, 19,  ..., -1, -1, -1],\n",
      "        [10,  8,  9,  ..., -1, -1, -1]])\n",
      "tensor([0, 0, 0, 0, 0, 0, 0, 0, 0, 0, 0, 0, 0, 0, 0, 0, 0, 0, 0, 0, 0, 0, 0, 0,\n",
      "        0, 0, 0, 0, 0, 0, 0, 0, 0, 0, 0, 0, 0, 0, 0, 0, 0, 0, 0, 0, 0, 0, 0, 0,\n",
      "        0, 0, 0, 0, 0, 0, 0, 0, 0, 0, 0, 0, 0, 0, 0, 0, 0, 0, 0, 0, 1, 1, 1, 1,\n",
      "        1, 1, 1, 1, 1, 1, 1, 1, 1, 1, 1, 1, 1, 1, 1, 1, 1, 1, 1, 1, 1, 1, 1, 1,\n",
      "        1, 1, 1, 1, 1, 1, 1, 1, 1, 1, 2, 2, 2, 2, 2, 2, 2, 2, 2, 2, 2, 2, 2, 2,\n",
      "        2, 2, 2, 2, 2, 2, 2, 2, 2, 2, 2, 2, 2, 2, 2, 2, 2, 2, 2, 2, 2, 2, 2, 2,\n",
      "        2, 2, 2, 2, 2, 2, 2, 2, 2, 2, 2, 2, 2, 2, 2, 2, 2, 2, 2, 2, 2, 2, 2, 2,\n",
      "        2, 2, 2, 2, 2, 2, 2, 2, 2, 2, 2, 2, 2, 2, 2, 2, 2, 2, 2, 2, 2, 2, 2, 2,\n",
      "        2, 2, 2, 2, 2, 2, 2, 2, 2, 2, 2, 2, 2, 2, 2, 2, 3, 3, 3, 3, 3, 3, 3, 3,\n",
      "        3, 3, 3, 3, 3, 3, 3, 3, 3, 3, 3, 3, 3, 3, 3, 3, 3, 3, 3, 3, 3, 3, 3, 3,\n",
      "        3, 3, 3, 3, 3, 3, 3, 3, 3, 3, 3, 3, 3, 3, 3, 3, 3, 3, 3, 3, 3, 3, 3, 3,\n",
      "        3, 3, 3, 3, 3, 3, 3, 3, 3, 3, 3, 3, 3, 3, 3, 3, 3, 3, 3, 3, 3, 3, 3, 3,\n",
      "        3, 3, 3, 3, 3, 3, 3, 3, 3, 3, 3, 3, 3, 3, 3, 3, 3, 3, 3, 3, 3, 3, 3, 3,\n",
      "        3, 3, 3, 3, 3, 3, 3, 3, 3, 3, 3, 3, 3, 3, 3, 3, 3, 3, 3, 3, 3, 3, 3, 3,\n",
      "        3, 3, 3, 3, 3, 3, 3, 3])\n",
      "tensor([[12,  2,  5,  ..., -1, -1, -1],\n",
      "        [10,  8, 16,  ..., -1, -1, -1],\n",
      "        [10,  5, 10,  ..., -1, -1, -1],\n",
      "        ...,\n",
      "        [10, 11, 19,  ..., -1, -1, -1],\n",
      "        [ 9,  9, 10,  ..., -1, -1, -1],\n",
      "        [10,  8,  9,  ..., -1, -1, -1]])\n",
      "tensor([0, 0, 0, 0, 0, 0, 0, 0, 0, 0, 0, 0, 0, 0, 0, 0, 0, 0, 0, 0, 0, 0, 0, 0,\n",
      "        0, 0, 0, 0, 0, 0, 0, 0, 0, 0, 0, 0, 0, 0, 0, 0, 0, 0, 0, 0, 0, 0, 0, 0,\n",
      "        0, 0, 0, 0, 0, 0, 0, 0, 0, 0, 0, 0, 0, 0, 0, 0, 0, 0, 0, 0, 1, 1, 1, 1,\n",
      "        1, 1, 1, 1, 1, 1, 1, 1, 1, 1, 1, 1, 1, 1, 1, 1, 1, 1, 1, 1, 1, 1, 1, 1,\n",
      "        1, 1, 1, 1, 1, 1, 1, 1, 1, 1, 2, 2, 2, 2, 2, 2, 2, 2, 2, 2, 2, 2, 2, 2,\n",
      "        2, 2, 2, 2, 2, 2, 2, 2, 2, 2, 2, 2, 2, 2, 2, 2, 2, 2, 2, 2, 2, 2, 2, 2,\n",
      "        2, 2, 2, 2, 2, 2, 2, 2, 2, 2, 2, 2, 2, 2, 2, 2, 2, 2, 2, 2, 2, 2, 2, 2,\n",
      "        2, 2, 2, 2, 2, 2, 2, 2, 2, 2, 2, 2, 2, 2, 2, 2, 2, 2, 2, 2, 2, 2, 2, 2,\n",
      "        2, 2, 2, 2, 2, 2, 2, 2, 2, 2, 2, 2, 2, 2, 2, 2, 3, 3, 3, 3, 3, 3, 3, 3,\n",
      "        3, 3, 3, 3, 3, 3, 3, 3, 3, 3, 3, 3, 3, 3, 3, 3, 3, 3, 3, 3, 3, 3, 3, 3,\n",
      "        3, 3, 3, 3, 3, 3, 3, 3, 3, 3, 3, 3, 3, 3, 3, 3, 3, 3, 3, 3, 3, 3, 3, 3,\n",
      "        3, 3, 3, 3, 3, 3, 3, 3, 3, 3, 3, 3, 3, 3, 3, 3, 3, 3, 3, 3, 3, 3, 3, 3,\n",
      "        3, 3, 3, 3, 3, 3, 3, 3, 3, 3, 3, 3, 3, 3, 3, 3, 3, 3, 3, 3, 3, 3, 3, 3,\n",
      "        3, 3, 3, 3, 3, 3, 3, 3, 3, 3, 3, 3, 3, 3, 3, 3, 3, 3, 3, 3, 3, 3, 3, 3,\n",
      "        3, 3, 3, 3, 3, 3, 3])\n",
      "tensor([[10,  8, 16,  ..., -1, -1, -1],\n",
      "        [10,  8, 16,  ..., -1, -1, -1],\n",
      "        [10,  8, 16,  ..., -1, -1, -1],\n",
      "        ...,\n",
      "        [10, 11, 19,  ..., -1, -1, -1],\n",
      "        [10, 11, 19,  ..., -1, -1, -1],\n",
      "        [ 8,  3,  5,  ..., -1, -1, -1]])\n"
     ]
    }
   ],
   "source": [
    "for i,(train_id,test_id) in enumerate(sfolder.split(input_seq,input_label)):\n",
    "    Xtrain,Ytrain = input_seq[train_id],input_label[train_id]\n",
    "    Xtest,Ytest = input_seq[test_id],input_label[test_id]\n",
    "    print(Ytest)\n",
    "    print(Xtest)"
   ],
   "metadata": {
    "collapsed": false,
    "pycharm": {
     "name": "#%%\n"
    }
   }
  },
  {
   "cell_type": "code",
   "execution_count": 30,
   "outputs": [
    {
     "name": "stdout",
     "output_type": "stream",
     "text": [
      "0.8598142246931996\n",
      "0.8620885037094261\n",
      "0.8094059015086407\n",
      "0.8269872988887161\n",
      "0.8002971946700306\n",
      "0.965019188163725\n"
     ]
    }
   ],
   "source": [
    "import xgboost as xgb\n",
    "\n",
    "sfolder = StratifiedKFold(n_splits=5,random_state=2,shuffle=True)\n",
    "result = np.random.randn(6,5)\n",
    "for i,(train_id,test_id) in enumerate(sfolder.split(input_seq,input_label)):\n",
    "    Xtrain,Ytrain = input_seq[train_id],input_label[train_id]\n",
    "    Xtest,Ytest = input_seq[test_id],input_label[test_id]\n",
    "    xgb_clf = xgb.XGBClassifier(\n",
    "    learning_rate = 0.1,\n",
    "    max_depth = 100,\n",
    "    n_estimators =100,\n",
    "    objective = 'multi:softmax',\n",
    "    num_class = 4,\n",
    "    random_state = 42\n",
    ")\n",
    "    xgb_clf.fit(Xtrain,Ytrain)\n",
    "    tes_label = xgb_clf.predict(Xtest)\n",
    "    f = xgb_clf.predict_proba(Xtest)\n",
    "\n",
    "    val_result = [accuracy_score(Ytest, tes_label),precision_score(Ytest,tes_label),\n",
    "                  recall_score(Ytest, tes_label), f1_score(Ytest, tes_label),\n",
    "              mcc_score(Ytest, tes_label),auc_score(Ytest,f)]\n",
    "    for j in range(6):\n",
    "        result[j][i] = val_result[j]\n",
    "\n",
    "for i in range(6):\n",
    "    print(np.mean(result[i]))"
   ],
   "metadata": {
    "collapsed": false,
    "pycharm": {
     "name": "#%%\n"
    }
   }
  },
  {
   "cell_type": "code",
   "execution_count": 31,
   "outputs": [
    {
     "name": "stdout",
     "output_type": "stream",
     "text": [
      "0.7725371211607567\n",
      "0.7422228512087212\n",
      "0.7397784995200529\n",
      "0.7394382984360486\n",
      "0.6785591822977646\n",
      "0.8265189996800352\n"
     ]
    }
   ],
   "source": [
    "from sklearn.tree import DecisionTreeClassifier\n",
    "sfolder = StratifiedKFold(n_splits=5,random_state=2,shuffle=True)\n",
    "result = np.random.randn(6,5)\n",
    "for i,(train_id,test_id) in enumerate(sfolder.split(input_seq,input_label)):\n",
    "    Xtrain,Ytrain = input_seq[train_id],input_label[train_id]\n",
    "    Xtest,Ytest = input_seq[test_id],input_label[test_id]\n",
    "    tree_clf = DecisionTreeClassifier()\n",
    "    tree_clf.fit(Xtrain,Ytrain)\n",
    "    tes_label = tree_clf.predict(Xtest)\n",
    "    f = tree_clf.predict_proba(Xtest)\n",
    "\n",
    "    val_result = [accuracy_score(Ytest, tes_label),precision_score(Ytest,tes_label),\n",
    "                  recall_score(Ytest, tes_label), f1_score(Ytest, tes_label),\n",
    "              mcc_score(Ytest, tes_label),auc_score(Ytest,f)]\n",
    "    for j in range(6):\n",
    "        result[j][i] = val_result[j]\n",
    "\n",
    "for i in range(6):\n",
    "    print(np.mean(result[i]))"
   ],
   "metadata": {
    "collapsed": false,
    "pycharm": {
     "name": "#%%\n"
    }
   }
  }
 ],
 "metadata": {
  "kernelspec": {
   "display_name": "Python 3",
   "language": "python",
   "name": "python3"
  },
  "language_info": {
   "codemirror_mode": {
    "name": "ipython",
    "version": 2
   },
   "file_extension": ".py",
   "mimetype": "text/x-python",
   "name": "python",
   "nbconvert_exporter": "python",
   "pygments_lexer": "ipython2",
   "version": "2.7.6"
  }
 },
 "nbformat": 4,
 "nbformat_minor": 0
}